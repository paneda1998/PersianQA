{
  "nbformat": 4,
  "nbformat_minor": 0,
  "metadata": {
    "colab": {
      "name": "PersianQA_Demo.ipynb",
      "provenance": [],
      "collapsed_sections": []
    },
    "kernelspec": {
      "name": "python3",
      "display_name": "Python 3"
    },
    "language_info": {
      "name": "python"
    },
    "accelerator": "GPU"
  },
  "cells": [
    {
      "cell_type": "markdown",
      "metadata": {
        "id": "cZanlt3tigU-"
      },
      "source": [
        "## Model Demo"
      ]
    },
    {
      "cell_type": "markdown",
      "metadata": {
        "id": "VXXXPBNe7WHY"
      },
      "source": [
        "- run the following cell to download dependencies and model"
      ]
    },
    {
      "cell_type": "code",
      "metadata": {
        "id": "842M_Yrz3WvF",
        "cellView": "form"
      },
      "source": [
        "#@title just run this (it takes about 5 minutes)\n",
        "!pip install -q transformers\n",
        "!pip install -q sentencepiece\n",
        "\n",
        "from tqdm import tqdm\n",
        "from IPython.display import clear_output\n",
        "import torch\n",
        "from transformers import AutoModelForQuestionAnswering, AutoTokenizer\n",
        "\n",
        "model_name = 'SajjadAyoubi/xlm-roberta-large-fa-qa'\n",
        "model = AutoModelForQuestionAnswering.from_pretrained(model_name)\n",
        "tokenizer = AutoTokenizer.from_pretrained(model_name)\n",
        "clear_output()\n",
        "\n",
        "# https://github.com/sajjjadayobi/PersianQA/blob/main/src/utils.py\n",
        "from tqdm import tqdm\n",
        "import torch\n",
        "\n",
        "class AnswerPredictor:\n",
        "  def __init__(self, model, tokenizer, device='cuda', n_best=10, max_length=512, stride=256, no_answer=False):\n",
        "      \"\"\"Initializes PyTorch Question Answering Prediction\n",
        "      It's best to leave use the default values.\n",
        "      Args:\n",
        "          model: Fine-tuned torch model\n",
        "          tokenizer: Transformers tokenizer\n",
        "          device (torch.device): Running device\n",
        "          n_best (int): Number of best possible answers\n",
        "          max_length (int): Tokenizer max length\n",
        "          stride (int): Tokenizer stride\n",
        "          no_answer (bool): If True, model can return \"no answer\"\n",
        "      \"\"\"\n",
        "      self.model = model.eval().to(device)\n",
        "      self.tokenizer = tokenizer\n",
        "      self.device = device\n",
        "      self.max_length = max_length\n",
        "      self.stride = stride\n",
        "      self.no_answer = no_answer\n",
        "      self.n_best = n_best\n",
        "\n",
        "\n",
        "  def model_pred(self, questions, contexts, batch_size=1):\n",
        "      n = len(contexts)\n",
        "      if n%batch_size!=0:\n",
        "          raise Exception(\"batch_size must be divisible by sample length\")\n",
        "\n",
        "      tokens = self.tokenizer(questions, contexts, add_special_tokens=True, \n",
        "                              return_token_type_ids=True, return_tensors=\"pt\", padding=True, \n",
        "                              return_offsets_mapping=True, truncation=\"only_second\", \n",
        "                              max_length=self.max_length, stride=self.stride)\n",
        "\n",
        "      start_logits, end_logits = [], []\n",
        "      for i in tqdm(range(0, n-batch_size+1, batch_size)):\n",
        "          with torch.no_grad():\n",
        "              out = self.model(tokens['input_ids'][i:i+batch_size].to(self.device), \n",
        "                          tokens['attention_mask'][i:i+batch_size].to(self.device), \n",
        "                          tokens['token_type_ids'][i:i+batch_size].to(self.device))\n",
        "\n",
        "              start_logits.append(out.start_logits)\n",
        "              end_logits.append(out.end_logits)\n",
        "\n",
        "      return tokens, torch.stack(start_logits).view(n, -1), torch.stack(end_logits).view(n, -1)\n",
        "\n",
        "\n",
        "  def __call__(self, questions, contexts, batch_size=1, answer_max_len=100):\n",
        "      \"\"\"Creates model prediction\n",
        "      \n",
        "      Args: \n",
        "          questions (list): Question strings\n",
        "          contexts (list): Contexts strings\n",
        "          batch_size (int): Batch size\n",
        "          answer_max_len (int): Sets the longests possible length for any answer\n",
        "        \n",
        "      Returns:\n",
        "          dict: The best prediction of the model\n",
        "              (e.g {0: {\"text\": str, \"score\": int}})\n",
        "      \"\"\"\n",
        "      tokens, starts, ends = self.model_pred(questions, contexts, batch_size=batch_size)\n",
        "      start_indexes = starts.argsort(dim=-1, descending=True)[:, :self.n_best]\n",
        "      end_indexes = ends.argsort(dim=-1, descending=True)[:, :self.n_best]\n",
        "\n",
        "      preds = {}\n",
        "      for i, (c, q) in enumerate(zip(contexts, questions)):  \n",
        "          min_null_score = starts[i][0] + ends[i][0] # 0 is CLS Token\n",
        "          start_context = tokens['input_ids'][i].tolist().index(self.tokenizer.sep_token_id)\n",
        "          \n",
        "          offset = tokens['offset_mapping'][i]\n",
        "          valid_answers = []\n",
        "          for start_index in start_indexes[i]:\n",
        "              # Don't consider answers that are in questions\n",
        "              if start_index<start_context:\n",
        "                  continue\n",
        "              for end_index in end_indexes[i]:\n",
        "                  # Don't consider out-of-scope answers, either because the indices are out of bounds or correspond\n",
        "                  # to part of the input_ids that are not in the context.\n",
        "                  if (start_index >= len(offset) or end_index >= len(offset)\n",
        "                      or offset[start_index] is None or offset[end_index] is None):\n",
        "                      continue\n",
        "                  # Don't consider answers with a length that is either < 0 or > max_answer_length.\n",
        "                  if end_index < start_index or (end_index-start_index+1) > answer_max_len:\n",
        "                      continue\n",
        "\n",
        "                  start_char = offset[start_index][0]\n",
        "                  end_char = offset[end_index][1]\n",
        "                  valid_answers.append({\"score\": (starts[i][start_index] + ends[i][end_index]).item(),\n",
        "                                        \"text\": c[start_char: end_char]})\n",
        "                  \n",
        "          if len(valid_answers) > 0:\n",
        "              best_answer = sorted(valid_answers, key=lambda x: x[\"score\"], reverse=True)[0]\n",
        "          else:\n",
        "              best_answer = {\"text\": \"\", \"score\": min_null_score}\n",
        "\n",
        "          if self.no_answer:\n",
        "              preds[i] = best_answer if best_answer[\"score\"] >= min_null_score else {\"text\": \"\", \"score\": min_null_score}\n",
        "          else:\n",
        "              preds[i] = best_answer\n",
        "\n",
        "      return preds\n",
        "\n",
        "predictor = AnswerPredictor(model, tokenizer, device='cuda', n_best=10, no_answer=True)"
      ],
      "execution_count": null,
      "outputs": []
    },
    {
      "cell_type": "code",
      "metadata": {
        "colab": {
          "base_uri": "https://localhost:8080/"
        },
        "id": "KbZCy2rG3cYO",
        "cellView": "form",
        "outputId": "b08194b7-c95c-4cd7-b69a-a8d782e6a34a"
      },
      "source": [
        "#@title Paste your Context and ask a Question\n",
        "context = \"من سجاد ایوبی هستم. به پردازش زبان طبیعی علاقه دارم\" #@param {type:\"string\"}\n",
        "question = \"به چی علاقه دارم؟\" #@param {type:\"string\"}\n",
        "\n",
        "preds = predictor([question], [context], batch_size=1)\n",
        "\n",
        "print('\\n\\n Model Prediction: ', preds[0]['text'].strip())"
      ],
      "execution_count": null,
      "outputs": [
        {
          "output_type": "stream",
          "text": [
            "100%|██████████| 1/1 [00:00<00:00, 50.70it/s]"
          ],
          "name": "stderr"
        },
        {
          "output_type": "stream",
          "text": [
            "\n",
            "\n",
            " Model Prediction:  پردازش زبان طبیعی\n"
          ],
          "name": "stdout"
        },
        {
          "output_type": "stream",
          "text": [
            "\n"
          ],
          "name": "stderr"
        }
      ]
    },
    {
      "cell_type": "markdown",
      "metadata": {
        "id": "6Kw4z9rNikFc"
      },
      "source": [
        "## Dataset Demo"
      ]
    },
    {
      "cell_type": "markdown",
      "metadata": {
        "id": "ow-20Pgu7nWa"
      },
      "source": [
        "- an example from the Dataset\n",
        "  - from this [wikipedia](https://fa.wikipedia.org/wiki/%D8%B9%D8%A8%D8%A7%D8%B3_%D8%A8%D8%A7%D8%A8%D8%A7%DB%8C%DB%8C)\n",
        "  - 7 questions with answers \n",
        "  - 3 questions without any answers"
      ]
    },
    {
      "cell_type": "markdown",
      "metadata": {
        "id": "oLyTBVIy9BXL"
      },
      "source": [
        "```bash\n",
        "{\n",
        "      \"title\": \"عباس بابایی\",\n",
        "      \"paragraphs\": [\n",
        "        {\n",
        "          \"qas\": [\n",
        "            {\n",
        "              \"question\": \"عباس بابایی دقیقا چه شخصی هست؟\",\n",
        "              \"sign\": \"\",\n",
        "              \"is_impossible\": false,\n",
        "              \"answers\": [\n",
        "                {\n",
        "                  \"answer_start\": 12,\n",
        "                  \"answer_end\": 123,\n",
        "                  \"text\": \"سرتیپ خلبان نورثروپ اف-۵ و اف - ۱۴ تام‌کت نیروی هوایی ارتش جمهوری اسلامی ایران و معاون عملیات فرماندهی این نیرو\"\n",
        "                }\n",
        "              ]\n",
        "            },\n",
        "            {\n",
        "              \"question\": \"عباس بابایی معاون عملیات چه سازمانی بود؟\",\n",
        "              \"sign\": \"\",\n",
        "              \"is_impossible\": false,\n",
        "              \"answers\": [\n",
        "                {\n",
        "                  \"answer_start\": 54,\n",
        "                  \"answer_end\": 90,\n",
        "                  \"text\": \"نیروی هوایی ارتش جمهوری اسلامی ایران\"\n",
        "                }\n",
        "              ]\n",
        "            },\n",
        "            {\n",
        "              \"question\": \"عباس بابایی در چه رشته ای تحصیلات خود را تکمیل کرد؟\",\n",
        "              \"sign\": \"\",\n",
        "              \"is_impossible\": false,\n",
        "              \"answers\": [\n",
        "                {\n",
        "                  \"answer_start\": 322,\n",
        "                  \"answer_end\": 340,\n",
        "                  \"text\": \"خلبانی نیروی هوایی\"\n",
        "                }\n",
        "              ]\n",
        "            },\n",
        "            {\n",
        "              \"question\": \"عباس بابایی چرا رشته پزشکی را ادامه نداد؟\",\n",
        "              \"sign\": \"\",\n",
        "              \"is_impossible\": false,\n",
        "              \"answers\": [\n",
        "                {\n",
        "                  \"answer_start\": 276,\n",
        "                  \"answer_end\": 299,\n",
        "                  \"text\": \"به دلیل علاقه به خلبانی\"\n",
        "                }\n",
        "              ]\n",
        "            },\n",
        "            {\n",
        "              \"question\": \"چرا عباس بابایی یه دوره ای رفته بود آمریکا\",\n",
        "              \"sign\": \"\",\n",
        "              \"is_impossible\": false,\n",
        "              \"answers\": [\n",
        "                {\n",
        "                  \"answer_start\": 373,\n",
        "                  \"answer_end\": 392,\n",
        "                  \"text\": \"برای تکمیل تحصیلاتش\"\n",
        "                }\n",
        "              ]\n",
        "            },\n",
        "            {\n",
        "              \"question\": \"جنازه عباس بابایی کجا دفن شده؟\",\n",
        "              \"sign\": \"\",\n",
        "              \"is_impossible\": false,\n",
        "              \"answers\": [\n",
        "                {\n",
        "                  \"answer_start\": 989,\n",
        "                  \"answer_end\": 1029,\n",
        "                  \"text\": \"در گلزار شهدا در جنوب شاهزاده حسین قزوین\"\n",
        "                }\n",
        "              ]\n",
        "            },\n",
        "            {\n",
        "              \"question\": \"عباس بابایی برای چه مأموریتی رفته بود که کشته شد؟\",\n",
        "              \"sign\": \"\",\n",
        "              \"is_impossible\": false,\n",
        "              \"answers\": [\n",
        "                {\n",
        "                  \"answer_start\": 559,\n",
        "                  \"answer_end\": 606,\n",
        "                  \"text\": \"شناسایی منطقه و تعیین راه کار صحیح اجرای عملیات\"\n",
        "                }\n",
        "              ]\n",
        "            },\n",
        "            {\n",
        "              \"question\": \"چرا سپاه خودی عباس بابایی را کشت؟\",\n",
        "              \"sign\": \"\",\n",
        "              \"is_impossible\": true,\n",
        "              \"answers\": []\n",
        "            },\n",
        "            {\n",
        "              \"question\": \"وقتی عباس بابایی ۳۷ سال داشت در چه عملیاتی پیروز شد؟\",\n",
        "              \"sign\": \"\",\n",
        "              \"is_impossible\": true,\n",
        "              \"answers\": []\n",
        "            },\n",
        "            {\n",
        "              \"question\": \"سرهنگ علی محمد نادری چه نسبتی با عباس بابایی داشت\",\n",
        "              \"sign\": \"\",\n",
        "              \"is_impossible\": true,\n",
        "              \"answers\": []\n",
        "            }\n",
        "          ],\n",
        "```"
      ]
    }
  ]
}